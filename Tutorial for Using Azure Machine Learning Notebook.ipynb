{
 "cells": [
  {
   "cell_type": "markdown",
   "metadata": {},
   "source": [
    "# Tutorial for Using Azure Machine Learning Notebook\n",
    "Lixun Zhang  \n",
    "Nov 9, 2015\n",
    "\n",
    "## 1 Introduction\n",
    "### 1.1 Who's the target audience\n",
    "This example is prepared for audience who are comfortable with developing models using Jupyter notebook and have a basic understanding of Azure Machine Learning (Azure ML) experiment. The purpose here is to give a complete walkthrough of how to use Jupyter notebook within Azure Machine Studio. Using linear regression as an example, we'll have the opportunity to see how Azure ML's Jupyter notebook can be used to access data from an Azure Machine Learning experiment, fit a model, set up a web service on Azure ML and consume the service.\n",
    "\n",
    "### 1.2 Why Azure ML notebook\n",
    "The major advantage of using Azure ML notebook is that you won't need to install Python on your local computer. This makes it possible for anyone with internet access to write Python programs using a web browser. Azure ML's notebook is based on the [Anaconda][Anaconda link] distribution, which has many packages installed. \n",
    "\n",
    "If you are new to Jupyter notebook, you can learn more about it from [The IPython Notebook][ipython link] and [Jupyter/IPython Notebook Quick Start Guide][jupyter link]. \n",
    "\n",
    "If you are new to Azure ML and want to learn more about it, the [Data Scientists' Guide][guide link] can help you get started.\n",
    "\n",
    "[Anaconda link]: https://www.continuum.io/\n",
    "[ipython link]: http://ipython.org/notebook.html\n",
    "[jupyter link]: http://jupyter-notebook-beginner-guide.readthedocs.org/en/latest/index.html\n",
    "[guide link]: https://gallery.cortanaanalytics.com/Experiment/Tutorial-for-Data-Scientists-3"
   ]
  },
  {
   "cell_type": "markdown",
   "metadata": {},
   "source": [
    "## 2 Read data\n",
    "In this example we'll be using a dataset from an Azure ML experiment. In [Figure 1][pic 1] I created an experiment that makes use of the \"Boston\" dataset from the R package \"MASS.\" After running the experiment, right-click on the output port of the \"Convert to CSV\" module. By selecting \"Python 2\", you should see a new notebook generated ([Figure 2][pic 2]). For the remainder of this example we'll use the data generated from this experiment. \n",
    "\n",
    "[![Figure 1][pic 1]][pic 1] Figure 1\n",
    "\n",
    "\n",
    "[![Figure 2][pic 2]][pic 2] Figure 2\n",
    "\n",
    "In your newly generated Jupyter notebook, run the automatically generated code to bring the data into the current session. With these lines of code we are using the [azureml][azureml link]'s Workspace subpackage. In your example, you should see different values for workspace\\_id and authorization\\_token. Similarly, your experiment number and node\\_id will be different from mine.\n",
    "\n",
    "[pic 1]: https://cloud.githubusercontent.com/assets/9322661/10639017/e7f19826-77db-11e5-9279-b8ca981912d7.PNG\n",
    "[pic 2]: https://cloud.githubusercontent.com/assets/9322661/11036593/7d3e8d7c-86c7-11e5-818a-713fa52f6ca8.png\n",
    "[azureml link]: https://github.com/Azure/Azure-MachineLearning-ClientLibrary-Python"
   ]
  },
  {
   "cell_type": "code",
   "execution_count": 1,
   "metadata": {
    "collapsed": false
   },
   "outputs": [],
   "source": [
    "from azureml import Workspace\n",
    "ws = Workspace(\n",
    " workspace_id='b2bbeb56a1d04e1599d2510a06c59d87',\n",
    " authorization_token='a3978d933cd84e64ab583a616366d160',\n",
    " endpoint='https://studioapi.azureml.net'\n",
    ")\n",
    "experiment = ws.experiments['b2bbeb56a1d04e1599d2510a06c59d87.f-id.911630d13cbe4407b9fe408b5bb6ddef']\n",
    "ds = experiment.get_intermediate_dataset(\n",
    " node_id='a0a931cf-9fb3-4cb9-83db-f48211be560c-323',\n",
    " port_name='Results dataset',\n",
    " data_type_id='GenericCSV'\n",
    ")\n",
    "frame = ds.to_dataframe()"
   ]
  },
  {
   "cell_type": "code",
   "execution_count": 2,
   "metadata": {
    "collapsed": false,
    "scrolled": true
   },
   "outputs": [
    {
     "data": {
      "text/html": [
       "<div>\n",
       "<table border=\"1\" class=\"dataframe\">\n",
       "  <thead>\n",
       "    <tr style=\"text-align: right;\">\n",
       "      <th></th>\n",
       "      <th>crim</th>\n",
       "      <th>zn</th>\n",
       "      <th>indus</th>\n",
       "      <th>chas</th>\n",
       "      <th>nox</th>\n",
       "      <th>rm</th>\n",
       "      <th>age</th>\n",
       "      <th>dis</th>\n",
       "      <th>rad</th>\n",
       "      <th>tax</th>\n",
       "      <th>ptratio</th>\n",
       "      <th>black</th>\n",
       "      <th>lstat</th>\n",
       "      <th>medv</th>\n",
       "    </tr>\n",
       "  </thead>\n",
       "  <tbody>\n",
       "    <tr>\n",
       "      <th>0</th>\n",
       "      <td>0.00632</td>\n",
       "      <td>18</td>\n",
       "      <td>2.31</td>\n",
       "      <td>0</td>\n",
       "      <td>0.538</td>\n",
       "      <td>6.575</td>\n",
       "      <td>65.2</td>\n",
       "      <td>4.0900</td>\n",
       "      <td>1</td>\n",
       "      <td>296</td>\n",
       "      <td>15.3</td>\n",
       "      <td>396.90</td>\n",
       "      <td>4.98</td>\n",
       "      <td>24.0</td>\n",
       "    </tr>\n",
       "    <tr>\n",
       "      <th>1</th>\n",
       "      <td>0.02731</td>\n",
       "      <td>0</td>\n",
       "      <td>7.07</td>\n",
       "      <td>0</td>\n",
       "      <td>0.469</td>\n",
       "      <td>6.421</td>\n",
       "      <td>78.9</td>\n",
       "      <td>4.9671</td>\n",
       "      <td>2</td>\n",
       "      <td>242</td>\n",
       "      <td>17.8</td>\n",
       "      <td>396.90</td>\n",
       "      <td>9.14</td>\n",
       "      <td>21.6</td>\n",
       "    </tr>\n",
       "    <tr>\n",
       "      <th>2</th>\n",
       "      <td>0.02729</td>\n",
       "      <td>0</td>\n",
       "      <td>7.07</td>\n",
       "      <td>0</td>\n",
       "      <td>0.469</td>\n",
       "      <td>7.185</td>\n",
       "      <td>61.1</td>\n",
       "      <td>4.9671</td>\n",
       "      <td>2</td>\n",
       "      <td>242</td>\n",
       "      <td>17.8</td>\n",
       "      <td>392.83</td>\n",
       "      <td>4.03</td>\n",
       "      <td>34.7</td>\n",
       "    </tr>\n",
       "    <tr>\n",
       "      <th>3</th>\n",
       "      <td>0.03237</td>\n",
       "      <td>0</td>\n",
       "      <td>2.18</td>\n",
       "      <td>0</td>\n",
       "      <td>0.458</td>\n",
       "      <td>6.998</td>\n",
       "      <td>45.8</td>\n",
       "      <td>6.0622</td>\n",
       "      <td>3</td>\n",
       "      <td>222</td>\n",
       "      <td>18.7</td>\n",
       "      <td>394.63</td>\n",
       "      <td>2.94</td>\n",
       "      <td>33.4</td>\n",
       "    </tr>\n",
       "    <tr>\n",
       "      <th>4</th>\n",
       "      <td>0.06905</td>\n",
       "      <td>0</td>\n",
       "      <td>2.18</td>\n",
       "      <td>0</td>\n",
       "      <td>0.458</td>\n",
       "      <td>7.147</td>\n",
       "      <td>54.2</td>\n",
       "      <td>6.0622</td>\n",
       "      <td>3</td>\n",
       "      <td>222</td>\n",
       "      <td>18.7</td>\n",
       "      <td>396.90</td>\n",
       "      <td>5.33</td>\n",
       "      <td>36.2</td>\n",
       "    </tr>\n",
       "  </tbody>\n",
       "</table>\n",
       "</div>"
      ],
      "text/plain": [
       "      crim  zn  indus  chas    nox     rm   age     dis  rad  tax  ptratio  \\\n",
       "0  0.00632  18   2.31     0  0.538  6.575  65.2  4.0900    1  296     15.3   \n",
       "1  0.02731   0   7.07     0  0.469  6.421  78.9  4.9671    2  242     17.8   \n",
       "2  0.02729   0   7.07     0  0.469  7.185  61.1  4.9671    2  242     17.8   \n",
       "3  0.03237   0   2.18     0  0.458  6.998  45.8  6.0622    3  222     18.7   \n",
       "4  0.06905   0   2.18     0  0.458  7.147  54.2  6.0622    3  222     18.7   \n",
       "\n",
       "    black  lstat  medv  \n",
       "0  396.90   4.98  24.0  \n",
       "1  396.90   9.14  21.6  \n",
       "2  392.83   4.03  34.7  \n",
       "3  394.63   2.94  33.4  \n",
       "4  396.90   5.33  36.2  "
      ]
     },
     "execution_count": 2,
     "metadata": {},
     "output_type": "execute_result"
    }
   ],
   "source": [
    "# frame # commented out to avoid printing\n",
    "frame.head()"
   ]
  },
  {
   "cell_type": "markdown",
   "metadata": {},
   "source": [
    "## 3 Linear regression with sklearn\n",
    "Now let's assign the data to a new variable \"mydata\" and use it to develop a linear model. In practice, you may want to spend more time on things like feature engineering and variable selection. In this example, however, we will just fit a model using all variables. "
   ]
  },
  {
   "cell_type": "code",
   "execution_count": 3,
   "metadata": {
    "collapsed": false,
    "scrolled": true
   },
   "outputs": [
    {
     "name": "stdout",
     "output_type": "stream",
     "text": [
      "The R-squared value is: 0.7406 \n",
      "\n",
      "     Features       Coef\n",
      "0   intercept  36.459488\n",
      "1        crim  -0.108011\n",
      "2          zn   0.046420\n",
      "3       indus   0.020559\n",
      "4        chas   2.686734\n",
      "5         nox -17.766611\n",
      "6          rm   3.809865\n",
      "7         age   0.000692\n",
      "8         dis  -1.475567\n",
      "9         rad   0.306049\n",
      "10        tax  -0.012335\n",
      "11    ptratio  -0.952747\n",
      "12      black   0.009312\n",
      "13      lstat  -0.524758\n"
     ]
    }
   ],
   "source": [
    "import pandas as pd\n",
    "from sklearn.linear_model import LinearRegression\n",
    "\n",
    "# assign data to mydata\n",
    "mydata = frame\n",
    "\n",
    "# create X and y\n",
    "feature_cols = ['crim', 'zn', 'indus', 'chas', 'nox', 'rm', 'age', 'dis', 'rad', 'tax', 'ptratio', 'black', 'lstat']\n",
    "X = mydata[feature_cols]\n",
    "y = mydata.medv\n",
    "\n",
    "# initiate the linear model and fit with data\n",
    "lm = LinearRegression()\n",
    "lm.fit(X, y)\n",
    "\n",
    "# print the R-squared\n",
    "print(\"The R-squared value is: {0:0.4f} \\n\".format(lm.score(X, y)))\n",
    "\n",
    "# save intercept and coefficients\n",
    "param_df = pd.DataFrame({\"Features\": ['intercept'] + feature_cols, \"Coef\": [lm.intercept_] + list(lm.coef_)})\n",
    "cols = param_df.columns.tolist()\n",
    "cols = cols[-1:]+cols[:-1]\n",
    "param_df = param_df[cols]\n",
    "print(param_df)"
   ]
  },
  {
   "cell_type": "markdown",
   "metadata": {},
   "source": [
    "Next we'll use the model to make predictions. Typically, predictions are done on a validation dataset. Here, however, the training dataset is used for illustraton purposes."
   ]
  },
  {
   "cell_type": "code",
   "execution_count": 4,
   "metadata": {
    "collapsed": false
   },
   "outputs": [
    {
     "data": {
      "text/html": [
       "<div>\n",
       "<table border=\"1\" class=\"dataframe\">\n",
       "  <thead>\n",
       "    <tr style=\"text-align: right;\">\n",
       "      <th></th>\n",
       "      <th>crim</th>\n",
       "      <th>zn</th>\n",
       "      <th>indus</th>\n",
       "      <th>chas</th>\n",
       "      <th>nox</th>\n",
       "      <th>rm</th>\n",
       "      <th>age</th>\n",
       "      <th>dis</th>\n",
       "      <th>rad</th>\n",
       "      <th>tax</th>\n",
       "      <th>ptratio</th>\n",
       "      <th>black</th>\n",
       "      <th>lstat</th>\n",
       "      <th>medv</th>\n",
       "      <th>predicted</th>\n",
       "    </tr>\n",
       "  </thead>\n",
       "  <tbody>\n",
       "    <tr>\n",
       "      <th>0</th>\n",
       "      <td>0.00632</td>\n",
       "      <td>18</td>\n",
       "      <td>2.31</td>\n",
       "      <td>0</td>\n",
       "      <td>0.538</td>\n",
       "      <td>6.575</td>\n",
       "      <td>65.2</td>\n",
       "      <td>4.0900</td>\n",
       "      <td>1</td>\n",
       "      <td>296</td>\n",
       "      <td>15.3</td>\n",
       "      <td>396.90</td>\n",
       "      <td>4.98</td>\n",
       "      <td>24.0</td>\n",
       "      <td>30.003843</td>\n",
       "    </tr>\n",
       "    <tr>\n",
       "      <th>1</th>\n",
       "      <td>0.02731</td>\n",
       "      <td>0</td>\n",
       "      <td>7.07</td>\n",
       "      <td>0</td>\n",
       "      <td>0.469</td>\n",
       "      <td>6.421</td>\n",
       "      <td>78.9</td>\n",
       "      <td>4.9671</td>\n",
       "      <td>2</td>\n",
       "      <td>242</td>\n",
       "      <td>17.8</td>\n",
       "      <td>396.90</td>\n",
       "      <td>9.14</td>\n",
       "      <td>21.6</td>\n",
       "      <td>25.025562</td>\n",
       "    </tr>\n",
       "    <tr>\n",
       "      <th>2</th>\n",
       "      <td>0.02729</td>\n",
       "      <td>0</td>\n",
       "      <td>7.07</td>\n",
       "      <td>0</td>\n",
       "      <td>0.469</td>\n",
       "      <td>7.185</td>\n",
       "      <td>61.1</td>\n",
       "      <td>4.9671</td>\n",
       "      <td>2</td>\n",
       "      <td>242</td>\n",
       "      <td>17.8</td>\n",
       "      <td>392.83</td>\n",
       "      <td>4.03</td>\n",
       "      <td>34.7</td>\n",
       "      <td>30.567597</td>\n",
       "    </tr>\n",
       "    <tr>\n",
       "      <th>3</th>\n",
       "      <td>0.03237</td>\n",
       "      <td>0</td>\n",
       "      <td>2.18</td>\n",
       "      <td>0</td>\n",
       "      <td>0.458</td>\n",
       "      <td>6.998</td>\n",
       "      <td>45.8</td>\n",
       "      <td>6.0622</td>\n",
       "      <td>3</td>\n",
       "      <td>222</td>\n",
       "      <td>18.7</td>\n",
       "      <td>394.63</td>\n",
       "      <td>2.94</td>\n",
       "      <td>33.4</td>\n",
       "      <td>28.607036</td>\n",
       "    </tr>\n",
       "    <tr>\n",
       "      <th>4</th>\n",
       "      <td>0.06905</td>\n",
       "      <td>0</td>\n",
       "      <td>2.18</td>\n",
       "      <td>0</td>\n",
       "      <td>0.458</td>\n",
       "      <td>7.147</td>\n",
       "      <td>54.2</td>\n",
       "      <td>6.0622</td>\n",
       "      <td>3</td>\n",
       "      <td>222</td>\n",
       "      <td>18.7</td>\n",
       "      <td>396.90</td>\n",
       "      <td>5.33</td>\n",
       "      <td>36.2</td>\n",
       "      <td>27.943524</td>\n",
       "    </tr>\n",
       "  </tbody>\n",
       "</table>\n",
       "</div>"
      ],
      "text/plain": [
       "      crim  zn  indus  chas    nox     rm   age     dis  rad  tax  ptratio  \\\n",
       "0  0.00632  18   2.31     0  0.538  6.575  65.2  4.0900    1  296     15.3   \n",
       "1  0.02731   0   7.07     0  0.469  6.421  78.9  4.9671    2  242     17.8   \n",
       "2  0.02729   0   7.07     0  0.469  7.185  61.1  4.9671    2  242     17.8   \n",
       "3  0.03237   0   2.18     0  0.458  6.998  45.8  6.0622    3  222     18.7   \n",
       "4  0.06905   0   2.18     0  0.458  7.147  54.2  6.0622    3  222     18.7   \n",
       "\n",
       "    black  lstat  medv  predicted  \n",
       "0  396.90   4.98  24.0  30.003843  \n",
       "1  396.90   9.14  21.6  25.025562  \n",
       "2  392.83   4.03  34.7  30.567597  \n",
       "3  394.63   2.94  33.4  28.607036  \n",
       "4  396.90   5.33  36.2  27.943524  "
      ]
     },
     "execution_count": 4,
     "metadata": {},
     "output_type": "execute_result"
    }
   ],
   "source": [
    "newX = X\n",
    "newY = y\n",
    "\n",
    "predicted = lm.predict(newX)\n",
    "predicted_df = pd.DataFrame({\"predicted\": predicted})\n",
    "mydata_with_pd = newX.join(newY).join(predicted_df)\n",
    "mydata_with_pd.head()"
   ]
  },
  {
   "cell_type": "markdown",
   "metadata": {},
   "source": [
    "With the predicted values, we can calculate metrics such as mean absolute error, root mean squared error, relative absolute error, and relative squared error. These metrics are standard outputs from the \"Evaluate Model\" module in Azure ML and you'll notice that the results here are the same as those in [Data Scientists' Guide][guide link].\n",
    "\n",
    "[guide link]: https://gallery.cortanaanalytics.com/Experiment/Tutorial-for-Data-Scientists-3"
   ]
  },
  {
   "cell_type": "code",
   "execution_count": 5,
   "metadata": {
    "collapsed": false
   },
   "outputs": [
    {
     "name": "stdout",
     "output_type": "stream",
     "text": [
      "Mean Absolute Error: 3.270863\n",
      "Root Mean Squared Error: 4.679191\n",
      "Relative Absolute Error: 0.492066\n",
      "Relative Squared Error: 0.259357\n"
     ]
    }
   ],
   "source": [
    "import numpy as np\n",
    "obs = mydata_with_pd.medv\n",
    "pred = mydata_with_pd.predicted\n",
    "\n",
    "mae = np.mean(abs(pred-obs))\n",
    "rmse = np.sqrt(np.mean((pred-obs)**2))\n",
    "rae = np.mean(abs(pred-obs))/np.mean(abs(obs-np.mean(obs)))\n",
    "rse = np.mean((pred-obs)**2)/np.mean((obs-np.mean(obs))**2)\n",
    "\n",
    "print(\"Mean Absolute Error: {0:0.6f}\".format(mae))\n",
    "print(\"Root Mean Squared Error: {0:0.6f}\".format(rmse))\n",
    "print(\"Relative Absolute Error: {0:0.6f}\".format(rae))\n",
    "print(\"Relative Squared Error: {0:0.6f}\".format(rse))"
   ]
  },
  {
   "cell_type": "markdown",
   "metadata": {},
   "source": [
    "## 4 Web service"
   ]
  },
  {
   "cell_type": "markdown",
   "metadata": {},
   "source": [
    "### 4.1 Set up a web service\n",
    "After developing the model, we can deploy it as a service so others can use it. The \"azureml\" package's services subpackage can be used for this purpose. The following lines of code are setting up a web service named \"demoservice\". Notice that the same workspace\\_id and authorization\\_token as the data step are used."
   ]
  },
  {
   "cell_type": "code",
   "execution_count": 6,
   "metadata": {
    "collapsed": true
   },
   "outputs": [],
   "source": [
    "from azureml import services\n",
    "@services.publish('b2bbeb56a1d04e1599d2510a06c59d87', 'a3978d933cd84e64ab583a616366d160')\n",
    "@services.types(crim=float, zn=float, indus=float, chas=float, nox=float, rm=float, age=float, \n",
    "                dis=float, rad=float, tax=float, ptratio=float, black=float, lstat=float)\n",
    "@services.returns(float)\n",
    "def demoservice(crim, zn, indus, chas, nox, rm, age, dis, rad, tax, ptratio, black, lstat):\n",
    "    # predict the label\n",
    "    feature_vector = [crim, zn, indus, chas, nox, rm, age, dis, rad, tax, ptratio, black, lstat]\n",
    "    return lm.predict(feature_vector)\n"
   ]
  },
  {
   "cell_type": "markdown",
   "metadata": {},
   "source": [
    "### 4.2 Consume a web service\n",
    "After running the above code to set up a web service, we can consume it like the following example. This way of consuming the web service works only during the current session."
   ]
  },
  {
   "cell_type": "code",
   "execution_count": 7,
   "metadata": {
    "collapsed": false
   },
   "outputs": [
    {
     "data": {
      "text/plain": [
       "array([ 30.00384338])"
      ]
     },
     "execution_count": 7,
     "metadata": {},
     "output_type": "execute_result"
    }
   ],
   "source": [
    "demoservice(0.00632, 18, 2.31, 0, 0.538, 6.575, 65.2, 4.09, 1, 296, 15.3, 396.9, 4.98)"
   ]
  },
  {
   "cell_type": "markdown",
   "metadata": {},
   "source": [
    "To consume the web service out of the current session, we can use Python scripts by specifying the service url and the api\\_key. The following lines of code print the url, the api\\_key, the help\\_url, and the service\\_id."
   ]
  },
  {
   "cell_type": "code",
   "execution_count": 8,
   "metadata": {
    "collapsed": false
   },
   "outputs": [
    {
     "data": {
      "text/plain": [
       "u'https://ussouthcentral.services.azureml.net/workspaces/b2bbeb56a1d04e1599d2510a06c59d87/services/ecd2564ad6e042dda752f127ff71efea/execute?api-version=2.0'"
      ]
     },
     "execution_count": 8,
     "metadata": {},
     "output_type": "execute_result"
    }
   ],
   "source": [
    "demoservice.service.url"
   ]
  },
  {
   "cell_type": "code",
   "execution_count": 9,
   "metadata": {
    "collapsed": false
   },
   "outputs": [
    {
     "data": {
      "text/plain": [
       "u'PkNHYOO55Q5pZ2XLW5mTPXXoMJTzjCmItEvixlLCLqEXzCeO53TBOhaBpLrEOlCN1zKP45Ij/rMTopdivEQaXQ=='"
      ]
     },
     "execution_count": 9,
     "metadata": {},
     "output_type": "execute_result"
    }
   ],
   "source": [
    "demoservice.service.api_key"
   ]
  },
  {
   "cell_type": "code",
   "execution_count": 10,
   "metadata": {
    "collapsed": false
   },
   "outputs": [
    {
     "data": {
      "text/plain": [
       "u'https://studio.azureml.net/apihelp/workspaces/b2bbeb56a1d04e1599d2510a06c59d87/webservices/639f774c52e0429181a62d4b5ccbf353/endpoints/ecd2564ad6e042dda752f127ff71efea/score'"
      ]
     },
     "execution_count": 10,
     "metadata": {},
     "output_type": "execute_result"
    }
   ],
   "source": [
    "demoservice.service.help_url"
   ]
  },
  {
   "cell_type": "code",
   "execution_count": 11,
   "metadata": {
    "collapsed": false
   },
   "outputs": [
    {
     "data": {
      "text/plain": [
       "'639f774c52e0429181a62d4b5ccbf353'"
      ]
     },
     "execution_count": 11,
     "metadata": {},
     "output_type": "execute_result"
    }
   ],
   "source": [
    "demoservice.service.service_id"
   ]
  },
  {
   "cell_type": "markdown",
   "metadata": {},
   "source": [
    "The help\\_url contains, among others, sample code written in C#, Python, and R for consuming the web service. And we'll use the Python sample code as a starting point in this step. Copy the help\\_url value to a new browser and open the web page. Scroll down the newly opened page till you see the section \"Sample Code\" as in [Figure 3][pic 3]. Click on the Python tab, copy the code and paste it below. Then make the following two changes: 1) replace the api\\_key with the value printed above, and 2) enter the values for the first two records. Notice that the order of the columns here may be different from that in your definition of the web service. After running the code, you should see the predictions.  \n",
    "\n",
    "[![Python Script][pic 3]][pic 3] Figure 3\n",
    "\n",
    "[pic 3]: https://cloud.githubusercontent.com/assets/9322661/10396166/f67a4396-6e6e-11e5-85ef-7ec5c59df283.PNG"
   ]
  },
  {
   "cell_type": "code",
   "execution_count": 12,
   "metadata": {
    "collapsed": false
   },
   "outputs": [
    {
     "name": "stdout",
     "output_type": "stream",
     "text": [
      "{\"Results\":{\"output1\":{\"type\":\"table\",\"value\":{\"Values\":[[\"30.0038433770168\"],[\"25.0255623790533\"]]}},\"output2\":{\"type\":\"table\",\"value\":{\"Values\":[[\"data:text/plain,\",\"data:text/plain,\",null]]}}},\"ContainerAllocationDurationMs\":0,\"ExecutionDurationMs\":96,\"IsWarmContainer\":true}\n"
     ]
    }
   ],
   "source": [
    "import urllib2\n",
    "# If you are using Python 3+, import urllib instead of urllib2\n",
    "\n",
    "import json \n",
    "\n",
    "data =  {\n",
    "\n",
    "        \"Inputs\": {\n",
    "\n",
    "                \"input1\":\n",
    "                {\n",
    "                    \"ColumnNames\": [\"crim\", \"zn\", \"lstat\", \"age\", \"tax\", \"rad\", \"black\", \n",
    "                                    \"chas\", \"nox\", \"rm\", \"indus\", \"ptratio\", \"dis\"],\n",
    "                    \"Values\": [ [ \"0.00632\", \"18\", \"4.98\", \"65.2\", \"296\", \"1\", \"396.9\", \n",
    "                                 \"0\", \"0.538\", \"6.575\", \"2.31\", \"15.3\", \"4.09\" ], \n",
    "                               [\"0.02731\", \"0\", \"9.14\", \"78.9\", \"242\", \"2\", \"396.9\", \n",
    "                                \"0\", \"0.469\", \"6.421\", \"7.07\", \"17.8\", \"4.9671\"],\n",
    "                            ]\n",
    "                },        },\n",
    "            \"GlobalParameters\": {\n",
    "}\n",
    "    }\n",
    "\n",
    "body = str.encode(json.dumps(data))\n",
    "\n",
    "url = 'https://ussouthcentral.services.azureml.net/workspaces/b2bbeb56a1d04e1599d2510a06c59d87/\\\n",
    "services/ecd2564ad6e042dda752f127ff71efea/execute?api-version=2.0'\n",
    "api_key = 'PkNHYOO55Q5pZ2XLW5mTPXXoMJTzjCmItEvixlLCLqEXzCeO53TBOhaBpLrEOlCN1zKP45Ij/rMTopdivEQaXQ==' \\\n",
    "# Replace this with the API key for the web service\n",
    "headers = {'Content-Type':'application/json', 'Authorization':('Bearer '+ api_key)}\n",
    "\n",
    "req = urllib2.Request(url, body, headers) \n",
    "\n",
    "try:\n",
    "    response = urllib2.urlopen(req)\n",
    "\n",
    "    # If you are using Python 3+, replace urllib2 with urllib.request in the above code:\n",
    "    # req = urllib.request.Request(url, body, headers) \n",
    "    # response = urllib.request.urlopen(req)\n",
    "\n",
    "    result = response.read()\n",
    "    print(result) \n",
    "except urllib2.HTTPError, error:\n",
    "    print(\"The request failed with status code: \" + str(error.code))\n",
    "\n",
    "    # Print the headers - they include the requert ID and the timestamp, \n",
    "    # which are useful for debugging the failure\n",
    "    print(error.info())\n",
    "\n",
    "    print(json.loads(error.read()))                 "
   ]
  },
  {
   "cell_type": "markdown",
   "metadata": {},
   "source": [
    "### 4.3 Re-publish a web service\n",
    "By default, when you run the code in section 4.1 multiple times different services will be generated. They will have different url, api\\_key, help\\_url, and service\\_id. If you just want to re-publish the same service, you need to specify the service\\_id as shown below. This way, you can use the same code for consumption without having to change the url and api\\_key."
   ]
  },
  {
   "cell_type": "code",
   "execution_count": 13,
   "metadata": {
    "collapsed": true
   },
   "outputs": [],
   "source": [
    "from azureml import services\n",
    "@services.publish('b2bbeb56a1d04e1599d2510a06c59d87', 'a3978d933cd84e64ab583a616366d160')\n",
    "@services.service_id('639f774c52e0429181a62d4b5ccbf353')\n",
    "@services.types(crim=float, zn=float, indus=float, chas=float, nox=float, rm=float, age=float, \n",
    "                dis=float, rad=float, tax=float, ptratio=float, black=float, lstat=float)\n",
    "@services.returns(float)\n",
    "def demoservice(crim, zn, indus, chas, nox, rm, age, dis, rad, tax, ptratio, black, lstat):\n",
    "    # predict the label\n",
    "    feature_vector = [crim, zn, indus, chas, nox, rm, age, dis, rad, tax, ptratio, black, lstat]\n",
    "    return lm.predict(feature_vector)"
   ]
  },
  {
   "cell_type": "markdown",
   "metadata": {},
   "source": [
    "## 5 Conclusion\n",
    "Through this example, you've learned how to access data from an Azure ML experiment, fit a model, deploy the model on Azure, and consume the service, all using Azure ML's Jupyter notebook. \n",
    "\n",
    "In addition to carrying out the entire model development process with Azure ML notebook, you can also use it as a supplement to Azure ML's experiments. Using Azure ML experiments you can develop a wide variety of models and easily compare their performance. However, certain tasks may not be accomplished there. Examples include certain feature selection techniques, advanced visualization options, a wide variety of GBM models, and time series analysis. For these tasks, Python offers a good alternative and Azure ML's Jupyter notebook allows you to write and run Python programs on the cloud.\n",
    "\n",
    "As another example of using Jupyter noteebook, you can test out Python code that will be used in the \"Execute Python Script\" module in an Azure ML Studio experiment.\n",
    "\n",
    "---  \n",
    "Created by a Microsoft Employee.  \n",
    "Copyright © Microsoft. All Rights Reserved."
   ]
  }
 ],
 "metadata": {
  "kernelspec": {
   "display_name": "Python 2",
   "language": "python",
   "name": "python2"
  },
  "language_info": {
   "codemirror_mode": {
    "name": "ipython",
    "version": 2
   },
   "file_extension": ".py",
   "mimetype": "text/x-python",
   "name": "python",
   "nbconvert_exporter": "python",
   "pygments_lexer": "ipython2",
   "version": "2.7.10"
  }
 },
 "nbformat": 4,
 "nbformat_minor": 0
}
